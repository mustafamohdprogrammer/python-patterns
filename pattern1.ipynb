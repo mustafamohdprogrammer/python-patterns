{
 "cells": [
  {
   "cell_type": "code",
   "execution_count": null,
   "id": "5fb7358d",
   "metadata": {},
   "outputs": [
    {
     "name": "stdout",
     "output_type": "stream",
     "text": [
      "$ $ $ $ $ $ \n",
      "$ $ $ $ $ $ \n",
      "$ $ $ $ $ $ \n",
      "$ $ $ $ $ $ \n",
      "$ $ $ $ $ $ \n",
      "$ $ $ $ $ $ \n"
     ]
    }
   ],
   "source": [
    "for i in range(1,7):\n",
    "    for j in range(1,7):\n",
    "        print('$',end=' ')\n",
    "    print()"
   ]
  },
  {
   "cell_type": "code",
   "execution_count": 6,
   "id": "11da5e57",
   "metadata": {},
   "outputs": [
    {
     "name": "stdout",
     "output_type": "stream",
     "text": [
      "$ $ $ $ $ $ \n",
      "$         $ \n",
      "$         $ \n",
      "$         $ \n",
      "$         $ \n",
      "$ $ $ $ $ $ \n"
     ]
    }
   ],
   "source": [
    "for i in range(1,7):\n",
    "    for j in range(1,7):\n",
    "        if i==1 or i==6 or j==1 or j==6:\n",
    "            print('$',end=' ')\n",
    "        else:\n",
    "            print(' ',end=' ')\n",
    "    print()"
   ]
  },
  {
   "cell_type": "code",
   "execution_count": 7,
   "id": "fee87404",
   "metadata": {},
   "outputs": [
    {
     "name": "stdout",
     "output_type": "stream",
     "text": [
      "$ $ $ $ $ $ \n",
      "$ $       $ \n",
      "$   $     $ \n",
      "$     $   $ \n",
      "$       $ $ \n",
      "$ $ $ $ $ $ \n"
     ]
    }
   ],
   "source": [
    "for i in range(1,7):\n",
    "    for j in range(1,7):\n",
    "        if i==1 or i == j or i==6 or j==1 or j==6:\n",
    "            print('$',end=' ')\n",
    "        else:\n",
    "            print(' ',end=' ')\n",
    "    print()"
   ]
  },
  {
   "cell_type": "code",
   "execution_count": 31,
   "id": "ebb310e3",
   "metadata": {},
   "outputs": [
    {
     "name": "stdout",
     "output_type": "stream",
     "text": [
      "$ $ $ $ $ $ $ $ $ $ \n",
      "$               $ $ \n",
      "$             $   $ \n",
      "$           $     $ \n",
      "$         $       $ \n",
      "$       $         $ \n",
      "$     $           $ \n",
      "$   $             $ \n",
      "$ $               $ \n",
      "$ $ $ $ $ $ $ $ $ $ \n"
     ]
    }
   ],
   "source": [
    "for i in range(1, 11):      \n",
    "    for j in range(1, 11):         \n",
    "        if i == 1 or i == 10 or j == 1 or j == 10 or 11 - i == j:\n",
    "            print('$', end=' ')\n",
    "        else:\n",
    "            print(' ', end=' ')\n",
    "    print()"
   ]
  },
  {
   "cell_type": "code",
   "execution_count": null,
   "id": "df47df07",
   "metadata": {},
   "outputs": [
    {
     "name": "stdout",
     "output_type": "stream",
     "text": [
      "$ $ $ $ $ $ $ $ $ $ \n",
      "$ $             $ $ \n",
      "$   $         $   $ \n",
      "$     $     $     $ \n",
      "$       $ $       $ \n",
      "$       $ $       $ \n",
      "$     $     $     $ \n",
      "$   $         $   $ \n",
      "$ $             $ $ \n",
      "$ $ $ $ $ $ $ $ $ $ \n"
     ]
    }
   ],
   "source": [
    "for i in range(1, 11):            \n",
    "    for j in range(1, 11):       \n",
    "        if i == 1 or i == 10 or j == 1 or j == 10 or 11 - i == j or i == j:\n",
    "            print('$', end=' ')\n",
    "        else:\n",
    "            print(' ', end=' ')\n",
    "    print()"
   ]
  },
  {
   "cell_type": "code",
   "execution_count": 17,
   "id": "45580b24",
   "metadata": {},
   "outputs": [
    {
     "name": "stdout",
     "output_type": "stream",
     "text": [
      "$                   $ \n",
      "  $               $   \n",
      "    $           $     \n",
      "      $       $       \n",
      "        $   $         \n",
      "          $           \n",
      "        $   $         \n",
      "      $       $       \n",
      "    $           $     \n",
      "  $               $   \n",
      "$                   $ \n"
     ]
    }
   ],
   "source": [
    "for i in range(1, 12):             # Rows from 1 to 6\n",
    "    for j in range(1, 12):         # Columns from 1 to 6\n",
    "        if 12 - i == j or i == j:\n",
    "            print('$', end=' ')\n",
    "        else:\n",
    "            print(' ', end=' ')\n",
    "    print()"
   ]
  },
  {
   "cell_type": "code",
   "execution_count": 24,
   "id": "b641b142",
   "metadata": {},
   "outputs": [
    {
     "name": "stdout",
     "output_type": "stream",
     "text": [
      "$ $ $ $ $ $ $ $ $ $ \n",
      "$ $ $ $ $ $ $ $ $ $ \n",
      "$ $ $ $ $ $ $ $ $ $ \n",
      "$ $ $ $ $ $ $ $ $ $ \n",
      "$ $ $ $ $ $ $ $ $ $ \n",
      "$                 $ \n",
      "$                 $ \n",
      "$                 $ \n",
      "$                 $ \n",
      "$ $ $ $ $ $ $ $ $ $ \n"
     ]
    }
   ],
   "source": [
    "for i in range(1,11):\n",
    "    for j in range(1,11):\n",
    "        if i <= 5 or i == 1 or i == 10 or j == 1 or j == 10 :\n",
    "            print('$',end=' ')\n",
    "        else:\n",
    "            print(' ',end=' ')\n",
    "    print()"
   ]
  },
  {
   "cell_type": "code",
   "execution_count": 26,
   "id": "ad46ac65",
   "metadata": {},
   "outputs": [
    {
     "name": "stdout",
     "output_type": "stream",
     "text": [
      "$ $ $ $ $ $ $ $ $ $ \n",
      "$                 $ \n",
      "$                 $ \n",
      "$                 $ \n",
      "$                 $ \n",
      "$ $ $ $ $ $ $ $ $ $ \n",
      "$ $ $ $ $ $ $ $ $ $ \n",
      "$ $ $ $ $ $ $ $ $ $ \n",
      "$ $ $ $ $ $ $ $ $ $ \n",
      "$ $ $ $ $ $ $ $ $ $ \n"
     ]
    }
   ],
   "source": [
    "for i in range(1,11):\n",
    "    for j in range(1,11):\n",
    "        if i > 5 or i == 1 or i == 10 or j == 1 or j == 10 :\n",
    "            print('$',end=' ')\n",
    "        else:\n",
    "            print(' ',end=' ')\n",
    "    print()"
   ]
  },
  {
   "cell_type": "code",
   "execution_count": 32,
   "id": "56f283f2",
   "metadata": {},
   "outputs": [
    {
     "name": "stdout",
     "output_type": "stream",
     "text": [
      "$ $ $ $ $ $ $ $ $ $ \n",
      "$ $ $ $ $         $ \n",
      "$ $ $ $ $         $ \n",
      "$ $ $ $ $         $ \n",
      "$ $ $ $ $         $ \n",
      "$ $ $ $ $         $ \n",
      "$ $ $ $ $         $ \n",
      "$ $ $ $ $         $ \n",
      "$ $ $ $ $         $ \n",
      "$ $ $ $ $ $ $ $ $ $ \n"
     ]
    }
   ],
   "source": [
    "for i in range(1,11):\n",
    "    for j in range(1,11):\n",
    "        if  i == 1 or i == 10 or j == 1 or j == 10 or j <=5:\n",
    "            print('$',end=' ')\n",
    "        else:\n",
    "            print(' ',end=' ')\n",
    "    print()"
   ]
  },
  {
   "cell_type": "code",
   "execution_count": 33,
   "id": "a5599d78",
   "metadata": {},
   "outputs": [
    {
     "name": "stdout",
     "output_type": "stream",
     "text": [
      "$ $ $ $ $ $ $ $ $ $ \n",
      "$         $ $ $ $ $ \n",
      "$         $ $ $ $ $ \n",
      "$         $ $ $ $ $ \n",
      "$         $ $ $ $ $ \n",
      "$         $ $ $ $ $ \n",
      "$         $ $ $ $ $ \n",
      "$         $ $ $ $ $ \n",
      "$         $ $ $ $ $ \n",
      "$ $ $ $ $ $ $ $ $ $ \n"
     ]
    }
   ],
   "source": [
    "for i in range(1,11):\n",
    "    for j in range(1,11):\n",
    "        if  i == 1 or i == 10 or j == 1 or j == 10 or j > 5:\n",
    "            print('$',end=' ')\n",
    "        else:\n",
    "            print(' ',end=' ')\n",
    "    print()"
   ]
  },
  {
   "cell_type": "code",
   "execution_count": 34,
   "id": "851edf48",
   "metadata": {},
   "outputs": [
    {
     "name": "stdout",
     "output_type": "stream",
     "text": [
      "$ $ $ $ $ $ $ $ $ $ \n",
      "$ $ $ $ $ $ $ $ $ $ \n",
      "$   $ $ $ $ $ $ $ $ \n",
      "$     $ $ $ $ $ $ $ \n",
      "$       $ $ $ $ $ $ \n",
      "$         $ $ $ $ $ \n",
      "$           $ $ $ $ \n",
      "$             $ $ $ \n",
      "$               $ $ \n",
      "$ $ $ $ $ $ $ $ $ $ \n"
     ]
    }
   ],
   "source": [
    "for i in range(1,11):\n",
    "    for j in range(1,11):\n",
    "        if  i == 1 or i == 10 or j == 1 or j == 10 or i <= j:\n",
    "            print('$',end=' ')\n",
    "        else:\n",
    "            print(' ',end=' ')\n",
    "    print()"
   ]
  },
  {
   "cell_type": "code",
   "execution_count": 35,
   "id": "df8db3fa",
   "metadata": {},
   "outputs": [
    {
     "name": "stdout",
     "output_type": "stream",
     "text": [
      "$ $ $ $ $ $ $ $ $ $ \n",
      "$                 $ \n",
      "$ $               $ \n",
      "$ $ $             $ \n",
      "$ $ $ $           $ \n",
      "$ $ $ $ $         $ \n",
      "$ $ $ $ $ $       $ \n",
      "$ $ $ $ $ $ $     $ \n",
      "$ $ $ $ $ $ $ $   $ \n",
      "$ $ $ $ $ $ $ $ $ $ \n"
     ]
    }
   ],
   "source": [
    "for i in range(1,11):\n",
    "    for j in range(1,11):\n",
    "        if  i == 1 or i == 10 or j == 1 or j == 10 or i > j:\n",
    "            print('$',end=' ')\n",
    "        else:\n",
    "            print(' ',end=' ')\n",
    "    print()"
   ]
  },
  {
   "cell_type": "code",
   "execution_count": 36,
   "id": "3dbabeb7",
   "metadata": {},
   "outputs": [
    {
     "name": "stdout",
     "output_type": "stream",
     "text": [
      "                    \n",
      "$                   \n",
      "$ $                 \n",
      "$ $ $               \n",
      "$ $ $ $             \n",
      "$ $ $ $ $           \n",
      "$ $ $ $ $ $         \n",
      "$ $ $ $ $ $ $       \n",
      "$ $ $ $ $ $ $ $     \n",
      "$ $ $ $ $ $ $ $ $   \n"
     ]
    }
   ],
   "source": [
    "for i in range(1,11):\n",
    "    for j in range(1,11):\n",
    "        if i > j:\n",
    "            print('$',end=' ')\n",
    "        else:\n",
    "            print(' ',end=' ')\n",
    "    print()"
   ]
  },
  {
   "cell_type": "code",
   "execution_count": 37,
   "id": "0cb1d270",
   "metadata": {},
   "outputs": [
    {
     "name": "stdout",
     "output_type": "stream",
     "text": [
      "$ $ $ $ $ $ $ $ $ $ \n",
      "  $ $ $ $ $ $ $ $ $ \n",
      "    $ $ $ $ $ $ $ $ \n",
      "      $ $ $ $ $ $ $ \n",
      "        $ $ $ $ $ $ \n",
      "          $ $ $ $ $ \n",
      "            $ $ $ $ \n",
      "              $ $ $ \n",
      "                $ $ \n",
      "                  $ \n"
     ]
    }
   ],
   "source": [
    "for i in range(1,11):\n",
    "    for j in range(1,11):\n",
    "        if i <= j:\n",
    "            print('$',end=' ')\n",
    "        else:\n",
    "            print(' ',end=' ')\n",
    "    print()"
   ]
  },
  {
   "cell_type": "code",
   "execution_count": 51,
   "id": "81f942ed",
   "metadata": {},
   "outputs": [
    {
     "name": "stdout",
     "output_type": "stream",
     "text": [
      "$ $ $ $ $ $ $ $ $ $ \n",
      "$ $ $ $ $         $ \n",
      "$ $ $ $ $         $ \n",
      "$ $ $ $ $         $ \n",
      "$ $ $ $ $         $ \n",
      "$                 $ \n",
      "$                 $ \n",
      "$                 $ \n",
      "$                 $ \n",
      "$ $ $ $ $ $ $ $ $ $ \n"
     ]
    }
   ],
   "source": [
    "for i in range(1,11):\n",
    "    for j in range(1,11):\n",
    "        if  i == 1 or i == 10 or j == 1 or (j <= 5 and i <= 5) or j == 10:\n",
    "            print('$',end=' ')\n",
    "        else:\n",
    "            print(' ',end=' ')\n",
    "    print()"
   ]
  },
  {
   "cell_type": "code",
   "execution_count": null,
   "id": "8644239e",
   "metadata": {},
   "outputs": [
    {
     "name": "stdout",
     "output_type": "stream",
     "text": [
      "$ $ $ $ $ $ $ $ $ $ \n",
      "$                 $ \n",
      "$                 $ \n",
      "$                 $ \n",
      "$                 $ \n",
      "$         $ $ $ $ $ \n",
      "$         $ $ $ $ $ \n",
      "$         $ $ $ $ $ \n",
      "$         $ $ $ $ $ \n",
      "$ $ $ $ $ $ $ $ $ $ \n"
     ]
    }
   ],
   "source": [
    "for i in range(1,11): # i = row j = column\n",
    "    for j in range(1,11):\n",
    "        if  i == 1 or i == 10 or j == 1 or (j > 5 and i > 5) or j == 10:\n",
    "            print('$',end=' ')\n",
    "        else:\n",
    "            print(' ',end=' ')\n",
    "    print()"
   ]
  },
  {
   "cell_type": "code",
   "execution_count": 53,
   "id": "aaf77670",
   "metadata": {},
   "outputs": [
    {
     "name": "stdout",
     "output_type": "stream",
     "text": [
      "$ $ $ $ $ $ $ $ $ $ \n",
      "$         $ $ $ $ $ \n",
      "$         $ $ $ $ $ \n",
      "$         $ $ $ $ $ \n",
      "$         $ $ $ $ $ \n",
      "$                 $ \n",
      "$                 $ \n",
      "$                 $ \n",
      "$                 $ \n",
      "$ $ $ $ $ $ $ $ $ $ \n"
     ]
    }
   ],
   "source": [
    "for i in range(1,11): # i = row j = column\n",
    "    for j in range(1,11):\n",
    "        if  i == 1 or i == 10 or j == 1 or (j > 5 and i <= 5) or j == 10:\n",
    "            print('$',end=' ')\n",
    "        else:\n",
    "            print(' ',end=' ')\n",
    "    print()"
   ]
  },
  {
   "cell_type": "code",
   "execution_count": 54,
   "id": "65e01901",
   "metadata": {},
   "outputs": [
    {
     "name": "stdout",
     "output_type": "stream",
     "text": [
      "$ $ $ $ $ $ $ $ $ $ \n",
      "$                 $ \n",
      "$                 $ \n",
      "$                 $ \n",
      "$ $ $ $ $         $ \n",
      "$ $ $ $ $         $ \n",
      "$ $ $ $ $         $ \n",
      "$ $ $ $ $         $ \n",
      "$ $ $ $ $         $ \n",
      "$ $ $ $ $ $ $ $ $ $ \n"
     ]
    }
   ],
   "source": [
    "for i in range(1,11): # i = row j = column\n",
    "    for j in range(1,11):\n",
    "        if  i == 1 or i == 10 or j == 1 or (j <= 5 and i >= 5) or j == 10:\n",
    "            print('$',end=' ')\n",
    "        else:\n",
    "            print(' ',end=' ')\n",
    "    print()"
   ]
  },
  {
   "cell_type": "code",
   "execution_count": 2,
   "id": "daf84a79",
   "metadata": {},
   "outputs": [
    {
     "name": "stdout",
     "output_type": "stream",
     "text": [
      "$ $ $ $ $ $ $ $ $ $ $ \n",
      "$ $                 $ \n",
      "$ $ $               $ \n",
      "$ $ $ $             $ \n",
      "$ $ $ $ $           $ \n",
      "$ $ $ $ $ $         $ \n",
      "$ $ $ $ $           $ \n",
      "$ $ $ $             $ \n",
      "$ $ $               $ \n",
      "$ $                 $ \n",
      "$ $ $ $ $ $ $ $ $ $ $ \n"
     ]
    }
   ],
   "source": [
    "for i in range(1,12):\n",
    "    for j in range(1,12):\n",
    "        if  i == 1 or i == 11 or j == 1 or j == 11 or(i >= j and 12-i >= j):\n",
    "            print('$', end=' ')\n",
    "        else:\n",
    "            print(' ', end=' ')\n",
    "    print()"
   ]
  },
  {
   "cell_type": "code",
   "execution_count": null,
   "id": "981edba8",
   "metadata": {},
   "outputs": [
    {
     "name": "stdout",
     "output_type": "stream",
     "text": [
      "$                     \n",
      "$ $                   \n",
      "$ $ $                 \n",
      "$ $ $ $               \n",
      "$ $ $ $ $             \n",
      "$ $ $ $ $ $           \n",
      "$ $ $ $ $             \n",
      "$ $ $ $               \n",
      "$ $ $                 \n",
      "$ $                   \n",
      "$                     \n"
     ]
    }
   ],
   "source": [
    "for i in range(1,12):\n",
    "    for j in range(1,12):\n",
    "        if  i == 1 or i == 11 or j == 1 or j == 11 or(i >= j and 12-i >= j):\n",
    "            print('$', end=' ')\n",
    "        else:\n",
    "            print(' ', end=' ')\n",
    "    print()"
   ]
  },
  {
   "cell_type": "code",
   "execution_count": 60,
   "id": "c869ed0e",
   "metadata": {},
   "outputs": [
    {
     "name": "stdout",
     "output_type": "stream",
     "text": [
      "$ $ $ $ $ $ $ $ $ $ $ \n",
      "$                 $ $ \n",
      "$               $ $ $ \n",
      "$             $ $ $ $ \n",
      "$           $ $ $ $ $ \n",
      "$         $ $ $ $ $ $ \n",
      "$           $ $ $ $ $ \n",
      "$             $ $ $ $ \n",
      "$               $ $ $ \n",
      "$                 $ $ \n",
      "$ $ $ $ $ $ $ $ $ $ $ \n"
     ]
    }
   ],
   "source": [
    "for i in range(1,12):\n",
    "    for j in range(1,12):\n",
    "        if  i == 1 or i == 11 or j == 1 or j == 11 or(i <= j and 12-i <= j):\n",
    "            print('$', end=' ')\n",
    "        else:\n",
    "            print(' ', end=' ')\n",
    "    print()"
   ]
  },
  {
   "cell_type": "code",
   "execution_count": 67,
   "id": "ce1d13eb",
   "metadata": {},
   "outputs": [
    {
     "name": "stdout",
     "output_type": "stream",
     "text": [
      "$ $ $ $ $ $ $ $ $ $ $ \n",
      "$                   $ \n",
      "$                   $ \n",
      "$                   $ \n",
      "$                   $ \n",
      "$         $         $ \n",
      "$       $ $ $       $ \n",
      "$     $ $ $ $ $     $ \n",
      "$   $ $ $ $ $ $ $   $ \n",
      "$ $ $ $ $ $ $ $ $ $ $ \n",
      "$ $ $ $ $ $ $ $ $ $ $ \n"
     ]
    }
   ],
   "source": [
    "for i in range(1,12):\n",
    "    for j in range(1,12):\n",
    "        if  i == 1 or i == 11 or j == 1 or j == 11 or(i >= j and 12-i <= j):\n",
    "            print('$', end=' ')\n",
    "        else:\n",
    "            print(' ', end=' ')\n",
    "    print()"
   ]
  },
  {
   "cell_type": "code",
   "execution_count": 78,
   "id": "9dca6628",
   "metadata": {},
   "outputs": [
    {
     "name": "stdout",
     "output_type": "stream",
     "text": [
      "                      \n",
      "                      \n",
      "                      \n",
      "                      \n",
      "                      \n",
      "          $           \n",
      "        $ $ $         \n",
      "      $ $ $ $ $       \n",
      "    $ $ $ $ $ $ $     \n",
      "  $ $ $ $ $ $ $ $ $   \n",
      "$ $ $ $ $ $ $ $ $ $ $ \n"
     ]
    }
   ],
   "source": [
    "for i in range(1,12):\n",
    "    for j in range(1,12):\n",
    "        if(i >= j and 12-i <= j):\n",
    "            print('$', end=' ')\n",
    "        else:\n",
    "            print(' ', end=' ')\n",
    "    print()"
   ]
  },
  {
   "cell_type": "code",
   "execution_count": 65,
   "id": "bc54c59a",
   "metadata": {},
   "outputs": [
    {
     "name": "stdout",
     "output_type": "stream",
     "text": [
      "$ $ $ $ $ $ $ $ $ $ $ \n",
      "$ $ $ $ $ $ $ $ $ $ $ \n",
      "$   $ $ $ $ $ $ $   $ \n",
      "$     $ $ $ $ $     $ \n",
      "$       $ $ $       $ \n",
      "$         $         $ \n",
      "$                   $ \n",
      "$                   $ \n",
      "$                   $ \n",
      "$                   $ \n",
      "$ $ $ $ $ $ $ $ $ $ $ \n"
     ]
    }
   ],
   "source": [
    "for i in range(1,12):\n",
    "    for j in range(1,12):\n",
    "        if  i == 1 or i == 11 or j == 1 or j == 11 or(i <= j and 12-i >= j):\n",
    "            print('$', end=' ')\n",
    "        else:\n",
    "            print(' ', end=' ')\n",
    "    print()"
   ]
  },
  {
   "cell_type": "code",
   "execution_count": 79,
   "id": "5d98083b",
   "metadata": {},
   "outputs": [
    {
     "name": "stdout",
     "output_type": "stream",
     "text": [
      "$ $ $ $ $ $ $ $ $ $ $ \n",
      "  $ $ $ $ $ $ $ $ $   \n",
      "    $ $ $ $ $ $ $     \n",
      "      $ $ $ $ $       \n",
      "        $ $ $         \n",
      "          $           \n",
      "                      \n",
      "                      \n",
      "                      \n",
      "                      \n",
      "                      \n"
     ]
    }
   ],
   "source": [
    "for i in range(1,12):\n",
    "    for j in range(1,12):\n",
    "        if(i <= j and 12-i >= j):\n",
    "            print('$', end=' ')\n",
    "        else:\n",
    "            print(' ', end=' ')\n",
    "    print()"
   ]
  },
  {
   "cell_type": "code",
   "execution_count": 72,
   "id": "58c90ace",
   "metadata": {},
   "outputs": [
    {
     "name": "stdout",
     "output_type": "stream",
     "text": [
      "$         \n",
      "$ $       \n",
      "$ $ $     \n",
      "$ $ $ $   \n",
      "$ $ $ $ $ \n"
     ]
    }
   ],
   "source": [
    "for i in range(1,6):\n",
    "    for j in range(1,6):\n",
    "        if j == 1 or j <= i:\n",
    "            print('$', end=' ')\n",
    "        else:\n",
    "            print(' ', end=' ')\n",
    "    print()"
   ]
  },
  {
   "cell_type": "code",
   "execution_count": 75,
   "id": "2a875f45",
   "metadata": {},
   "outputs": [
    {
     "name": "stdout",
     "output_type": "stream",
     "text": [
      "$ $ $ $ $ \n",
      "  $ $ $ $ \n",
      "    $ $ $ \n",
      "      $ $ \n",
      "        $ \n"
     ]
    }
   ],
   "source": [
    "for i in range(1,6):\n",
    "    for j in range(1,6):\n",
    "        if j == 5 or j >= i:\n",
    "            print('$', end=' ')\n",
    "        else:\n",
    "            print(' ', end=' ')\n",
    "    print()"
   ]
  },
  {
   "cell_type": "code",
   "execution_count": null,
   "id": "60db6f87",
   "metadata": {},
   "outputs": [],
   "source": [
    "for i in range(1,6):\n",
    "    for j in range(1,6):\n",
    "        if j == 5 or j >= i:\n",
    "            print('$', end=' ')\n",
    "        else:\n",
    "            print(' ', end=' ')\n",
    "    print()"
   ]
  },
  {
   "cell_type": "code",
   "execution_count": 76,
   "id": "57992b60",
   "metadata": {},
   "outputs": [
    {
     "name": "stdout",
     "output_type": "stream",
     "text": [
      "$ \n",
      "$ $ \n",
      "$ $ $ \n",
      "$ $ $ $ \n",
      "$ $ $ $ $ \n"
     ]
    }
   ],
   "source": [
    "for i in range(1,6):\n",
    "    for j in range(1,i+1):\n",
    "        print('$', end=' ')\n",
    "    print()"
   ]
  },
  {
   "cell_type": "code",
   "execution_count": 77,
   "id": "12f593fe",
   "metadata": {},
   "outputs": [
    {
     "name": "stdout",
     "output_type": "stream",
     "text": [
      "$ $ $ $ $ $ \n",
      "$ $ $ $ $ \n",
      "$ $ $ $ \n",
      "$ $ $ \n",
      "$ $ \n",
      "$ \n"
     ]
    }
   ],
   "source": [
    "for i in range(6,0,-1):\n",
    "    for j in range(1,i+1):\n",
    "        print('$', end=' ')\n",
    "    print()"
   ]
  },
  {
   "cell_type": "code",
   "execution_count": 83,
   "id": "1fec9fea",
   "metadata": {},
   "outputs": [
    {
     "name": "stdout",
     "output_type": "stream",
     "text": [
      "          * \n",
      "        * * * \n",
      "      * * * * * \n",
      "    * * * * * * * \n",
      "  * * * * * * * * * \n",
      "* * * * * * * * * * * \n",
      "  * * * * * * * * * \n",
      "    * * * * * * * \n",
      "      * * * * * \n",
      "        * * * \n",
      "          * \n"
     ]
    }
   ],
   "source": [
    "for i in range(1,7):\n",
    "    for k in range(1,7-i):\n",
    "        print(\" \",end=\" \")\n",
    "    for j in range(1,2*i):\n",
    "        print(\"*\",end=' ')\n",
    "    print()\n",
    "for i in range(5,0,-1):\n",
    "    for k in range(1,7-i):\n",
    "        print(\" \",end=\" \")\n",
    "    for j in range(1,2*i):\n",
    "        print(\"*\",end=' ')\n",
    "    print()"
   ]
  },
  {
   "cell_type": "code",
   "execution_count": null,
   "id": "e23f39c2",
   "metadata": {},
   "outputs": [
    {
     "name": "stdout",
     "output_type": "stream",
     "text": [
      "1 2 3 4 5 \n",
      "1 2 3 4 5 \n",
      "1 2 3 4 5 \n",
      "1 2 3 4 5 \n",
      "1 2 3 4 5 \n"
     ]
    }
   ],
   "source": [
    "n = int(input(\"Enter the number of rows: \"))\n",
    "# n = 8\n",
    "\n",
    "for i in range(n):\n",
    "    for j in range(n):\n",
    "        print(i+1,end=' ')\n",
    "    print()"
   ]
  },
  {
   "cell_type": "code",
   "execution_count": null,
   "id": "d852aa0b",
   "metadata": {},
   "outputs": [
    {
     "name": "stdout",
     "output_type": "stream",
     "text": [
      "1 2 3 4 5 \n",
      "1 2 3 4 5 \n",
      "1 2 3 4 5 \n",
      "1 2 3 4 5 \n",
      "1 2 3 4 5 \n"
     ]
    }
   ],
   "source": [
    "n = int(input(\"Enter the number of rows: \"))\n",
    "# n = 8\n",
    "\n",
    "for i in range(n):\n",
    "    for j in range(n):\n",
    "        print(j+1,end=' ')\n",
    "    print()"
   ]
  },
  {
   "cell_type": "code",
   "execution_count": 94,
   "id": "9fdd9496",
   "metadata": {},
   "outputs": [
    {
     "name": "stdout",
     "output_type": "stream",
     "text": [
      "5 5 5 5 5 \n",
      "4 4 4 4 4 \n",
      "3 3 3 3 3 \n",
      "2 2 2 2 2 \n",
      "1 1 1 1 1 \n"
     ]
    }
   ],
   "source": [
    "n = int(input(\"Enter the number of rows: \"))\n",
    "# n = 8\n",
    "\n",
    "for i in range(n-1,-1,-1):\n",
    "    for j in range(n):\n",
    "        print(i+1,end=' ')\n",
    "    print()"
   ]
  },
  {
   "cell_type": "code",
   "execution_count": 97,
   "id": "06462ff8",
   "metadata": {},
   "outputs": [
    {
     "name": "stdout",
     "output_type": "stream",
     "text": [
      "5 4 3 2 1 \n",
      "5 4 3 2 1 \n",
      "5 4 3 2 1 \n",
      "5 4 3 2 1 \n",
      "5 4 3 2 1 \n"
     ]
    }
   ],
   "source": [
    "n = int(input(\"Enter the number of rows: \"))\n",
    "# n = 8\n",
    "\n",
    "for i in range(n):\n",
    "    for j in range(n-1,-1,-1):\n",
    "        print(j+1,end=' ')\n",
    "    print()"
   ]
  },
  {
   "cell_type": "code",
   "execution_count": 100,
   "id": "587cbe50",
   "metadata": {},
   "outputs": [
    {
     "name": "stdout",
     "output_type": "stream",
     "text": [
      "A A A A A \n",
      "A A A A A \n",
      "A A A A A \n",
      "A A A A A \n",
      "A A A A A \n"
     ]
    }
   ],
   "source": [
    "n = int(input(\"Enter the number of rows: \"))\n",
    "for i in range(n):\n",
    "    for j in range(n-1,-1,-1):\n",
    "        print(chr(65),end=' ')\n",
    "    print()"
   ]
  },
  {
   "cell_type": "code",
   "execution_count": 101,
   "id": "2e8b93c9",
   "metadata": {},
   "outputs": [
    {
     "name": "stdout",
     "output_type": "stream",
     "text": [
      "a a a a a \n",
      "a a a a a \n",
      "a a a a a \n",
      "a a a a a \n",
      "a a a a a \n"
     ]
    }
   ],
   "source": [
    "n = int(input(\"Enter the number of rows: \"))\n",
    "for i in range(n):\n",
    "    for j in range(n-1,-1,-1):\n",
    "        print(chr(97),end=' ')\n",
    "    print()"
   ]
  },
  {
   "cell_type": "code",
   "execution_count": 103,
   "id": "869d6108",
   "metadata": {},
   "outputs": [
    {
     "name": "stdout",
     "output_type": "stream",
     "text": [
      "A A A A A \n",
      "B B B B B \n",
      "C C C C C \n",
      "D D D D D \n",
      "E E E E E \n"
     ]
    }
   ],
   "source": [
    "n = int(input(\"Enter the number of rows: \"))\n",
    "for i in range(n):\n",
    "    for j in range(n-1,-1,-1):\n",
    "        print(chr(65+i),end=' ')\n",
    "    print()"
   ]
  },
  {
   "cell_type": "code",
   "execution_count": 105,
   "id": "db6515d9",
   "metadata": {},
   "outputs": [
    {
     "name": "stdout",
     "output_type": "stream",
     "text": [
      "a a a a a \n",
      "b b b b b \n",
      "c c c c c \n",
      "d d d d d \n",
      "e e e e e \n"
     ]
    }
   ],
   "source": [
    "n = int(input(\"Enter the number of rows: \"))\n",
    "for i in range(n):\n",
    "    for j in range(n-1,-1,-1):\n",
    "        print(chr(97+i),end=' ')\n",
    "    print()"
   ]
  },
  {
   "cell_type": "code",
   "execution_count": 107,
   "id": "a450961f",
   "metadata": {},
   "outputs": [
    {
     "name": "stdout",
     "output_type": "stream",
     "text": [
      "e e e e e \n",
      "d d d d d \n",
      "c c c c c \n",
      "b b b b b \n",
      "a a a a a \n"
     ]
    }
   ],
   "source": [
    "n = int(input(\"Enter the number of rows: \"))\n",
    "# n = 8\n",
    "\n",
    "for i in range(n-1,-1,-1):\n",
    "    for j in range(n):\n",
    "        print(chr(97+i),end=' ')\n",
    "    print()"
   ]
  },
  {
   "cell_type": "code",
   "execution_count": 110,
   "id": "06f269ae",
   "metadata": {},
   "outputs": [
    {
     "name": "stdout",
     "output_type": "stream",
     "text": [
      "a b c d e \n",
      "a b c d e \n",
      "a b c d e \n",
      "a b c d e \n",
      "a b c d e \n"
     ]
    }
   ],
   "source": [
    "n = int(input(\"Enter the number of rows: \"))\n",
    "# n = 8\n",
    "\n",
    "for i in range(n-1,-1,-1):\n",
    "    for j in range(n):\n",
    "        print(chr(97+j),end=' ')\n",
    "    print()"
   ]
  },
  {
   "cell_type": "code",
   "execution_count": 111,
   "id": "8d4f5fdc",
   "metadata": {},
   "outputs": [
    {
     "name": "stdout",
     "output_type": "stream",
     "text": [
      "A B C D E \n",
      "A B C D E \n",
      "A B C D E \n",
      "A B C D E \n",
      "A B C D E \n"
     ]
    }
   ],
   "source": [
    "n = int(input(\"Enter the number of rows: \"))\n",
    "# n = 8\n",
    "\n",
    "for i in range(n-1,-1,-1):\n",
    "    for j in range(n):\n",
    "        print(chr(65+j),end=' ')\n",
    "    print()"
   ]
  },
  {
   "cell_type": "code",
   "execution_count": 113,
   "id": "e94e3c3e",
   "metadata": {},
   "outputs": [
    {
     "name": "stdout",
     "output_type": "stream",
     "text": [
      "e d c b a \n",
      "e d c b a \n",
      "e d c b a \n",
      "e d c b a \n",
      "e d c b a \n"
     ]
    }
   ],
   "source": [
    "n = int(input(\"Enter the number of rows: \"))\n",
    "# n = 8\n",
    "\n",
    "for i in range(n):\n",
    "    for j in range(n-1,-1,-1):\n",
    "        print(chr(97+j),end=' ')\n",
    "    print()"
   ]
  },
  {
   "cell_type": "code",
   "execution_count": 114,
   "id": "b71eb339",
   "metadata": {},
   "outputs": [
    {
     "name": "stdout",
     "output_type": "stream",
     "text": [
      "E D C B A \n",
      "E D C B A \n",
      "E D C B A \n",
      "E D C B A \n",
      "E D C B A \n"
     ]
    }
   ],
   "source": [
    "n = int(input(\"Enter the number of rows: \"))\n",
    "# n = 8\n",
    "\n",
    "for i in range(n):\n",
    "    for j in range(n-1,-1,-1):\n",
    "        print(chr(65+j),end=' ')\n",
    "    print()"
   ]
  },
  {
   "cell_type": "code",
   "execution_count": 3,
   "id": "b2fb5907",
   "metadata": {},
   "outputs": [
    {
     "name": "stdout",
     "output_type": "stream",
     "text": [
      "A B C D E \n",
      "F G H I J \n",
      "K L M N O \n",
      "P Q R S T \n",
      "U V W X Y \n"
     ]
    }
   ],
   "source": [
    "n = int(input(\"Enter the number of rows: \"))\n",
    "k = 0\n",
    "for i in range(n):\n",
    "    for j in range(n-1,-1,-1):\n",
    "        print(chr(65+k),end=' ')\n",
    "        k = k+1\n",
    "    print()"
   ]
  },
  {
   "cell_type": "code",
   "execution_count": 4,
   "id": "ec571d46",
   "metadata": {},
   "outputs": [
    {
     "name": "stdout",
     "output_type": "stream",
     "text": [
      "a b c d e \n",
      "f g h i j \n",
      "k l m n o \n",
      "p q r s t \n",
      "u v w x y \n"
     ]
    }
   ],
   "source": [
    "n = int(input(\"Enter the number of rows: \"))\n",
    "k = 0\n",
    "for i in range(n):\n",
    "    for j in range(n-1,-1,-1):\n",
    "        print(chr(97+k),end=' ')\n",
    "        k = k+1\n",
    "    print()"
   ]
  },
  {
   "cell_type": "code",
   "execution_count": null,
   "id": "45ea401d",
   "metadata": {},
   "outputs": [],
   "source": []
  },
  {
   "cell_type": "code",
   "execution_count": 2,
   "id": "191d7e8d",
   "metadata": {},
   "outputs": [
    {
     "name": "stdout",
     "output_type": "stream",
     "text": [
      "1 \n",
      "2 2 \n",
      "3 3 3 \n",
      "4 4 4 4 \n",
      "5 5 5 5 5 \n"
     ]
    }
   ],
   "source": [
    "for i in range(1,5+1):\n",
    "    for j in range(1,i+1):\n",
    "        print(i, end=' ')\n",
    "    print()"
   ]
  },
  {
   "cell_type": "code",
   "execution_count": null,
   "id": "0ecfe08f",
   "metadata": {},
   "outputs": [
    {
     "name": "stdout",
     "output_type": "stream",
     "text": [
      "1 \n",
      "1 2 \n",
      "1 2 3 \n",
      "1 2 3 4 \n",
      "1 2 3 4 5 \n"
     ]
    }
   ],
   "source": [
    "for i in range(1,5+1):\n",
    "    for j in range(1,i+1):\n",
    "        print(j, end=' ')\n",
    "    print()"
   ]
  },
  {
   "cell_type": "code",
   "execution_count": 9,
   "id": "1e1c3ace",
   "metadata": {},
   "outputs": [
    {
     "name": "stdout",
     "output_type": "stream",
     "text": [
      "5 5 5 5 5 \n",
      "4 4 4 4 \n",
      "3 3 3 \n",
      "2 2 \n",
      "1 \n"
     ]
    }
   ],
   "source": [
    "for i in range(5,0,-1):\n",
    "    for j in range(1,i+1):\n",
    "        print(i, end=' ')\n",
    "    print()"
   ]
  },
  {
   "cell_type": "code",
   "execution_count": 11,
   "id": "1f9e3927",
   "metadata": {},
   "outputs": [
    {
     "name": "stdout",
     "output_type": "stream",
     "text": [
      "        1 \n",
      "      1 2 \n",
      "    1 2 3 \n",
      "  1 2 3 4 \n",
      "1 2 3 4 5 \n"
     ]
    }
   ],
   "source": [
    "for i in range(1,5+1):\n",
    "    for k in range(1,5+1-i):\n",
    "        print(\" \", end=' ')\n",
    "    for j in range(1,i+1):\n",
    "        print(j, end=' ')\n",
    "    print()"
   ]
  },
  {
   "cell_type": "code",
   "execution_count": null,
   "id": "cae4b12d",
   "metadata": {},
   "outputs": [],
   "source": []
  },
  {
   "cell_type": "code",
   "execution_count": 40,
   "id": "4c0a33ef",
   "metadata": {},
   "outputs": [
    {
     "name": "stdout",
     "output_type": "stream",
     "text": [
      "  * * *   \n",
      "*       * \n",
      "*       * \n",
      "* * * * * \n",
      "*       * \n",
      "*       * \n",
      "          \n"
     ]
    }
   ],
   "source": [
    "for i in range(1, 8):      \n",
    "    for j in range(1, 6):         \n",
    "        if i==1 and j in(2,3,4):\n",
    "            print('*', end=' ')\n",
    "        elif i in (2,3,5,6) and j in(1,5):\n",
    "            print('*', end=' ')\n",
    "        elif i == 4:\n",
    "            print('*', end=' ')\n",
    "        else:\n",
    "            print(' ', end=' ')\n",
    "    print()"
   ]
  },
  {
   "cell_type": "code",
   "execution_count": 3,
   "id": "0ae3d550",
   "metadata": {},
   "outputs": [
    {
     "name": "stdout",
     "output_type": "stream",
     "text": [
      "* * * *   \n",
      "*       * \n",
      "*       * \n",
      "* * * *   \n",
      "*       * \n",
      "*       * \n",
      "* * * *   \n"
     ]
    }
   ],
   "source": [
    "for i in range(1, 8):      \n",
    "    for j in range(1, 6):         \n",
    "        if i in (1,4,7) and j in (1,2,3,4):\n",
    "            print('*', end=' ')\n",
    "        elif i in (2,3,5,6) and j in(1,5):\n",
    "            print('*', end=' ')\n",
    "        else:\n",
    "            print(' ', end=' ')\n",
    "    print()"
   ]
  },
  {
   "cell_type": "code",
   "execution_count": 4,
   "id": "169c0639",
   "metadata": {},
   "outputs": [
    {
     "name": "stdout",
     "output_type": "stream",
     "text": [
      "  * * *   \n",
      "*       * \n",
      "*         \n",
      "*         \n",
      "*         \n",
      "*       * \n",
      "  * * *   \n"
     ]
    }
   ],
   "source": [
    "for i in range(1,8):\n",
    "    for j in range(1,6):\n",
    "        if i in (1,7) and j in (2,3,4):\n",
    "            print('*',end=' ')\n",
    "        elif i in (2,6) and j in (1,5):\n",
    "            print('*',end=' ')\n",
    "        elif i in (3,4,5) and j==1:\n",
    "            print('*',end=' ')\n",
    "        else:\n",
    "            print(' ',end=' ')\n",
    "    print()"
   ]
  },
  {
   "cell_type": "code",
   "execution_count": null,
   "id": "2593b9d7",
   "metadata": {},
   "outputs": [],
   "source": []
  },
  {
   "cell_type": "code",
   "execution_count": null,
   "id": "371a033f",
   "metadata": {},
   "outputs": [],
   "source": []
  },
  {
   "cell_type": "code",
   "execution_count": null,
   "id": "cbb342a4",
   "metadata": {},
   "outputs": [],
   "source": []
  }
 ],
 "metadata": {
  "kernelspec": {
   "display_name": "base",
   "language": "python",
   "name": "python3"
  },
  "language_info": {
   "codemirror_mode": {
    "name": "ipython",
    "version": 3
   },
   "file_extension": ".py",
   "mimetype": "text/x-python",
   "name": "python",
   "nbconvert_exporter": "python",
   "pygments_lexer": "ipython3",
   "version": "3.13.5"
  }
 },
 "nbformat": 4,
 "nbformat_minor": 5
}
